{
  "cells": [
    {
      "cell_type": "code",
      "source": [
        "!pip install Bio\n",
        "!pip install pandas openpyxl"
      ],
      "metadata": {
        "colab": {
          "base_uri": "https://localhost:8080/"
        },
        "id": "yifofZVlJtf8",
        "outputId": "31e3cb23-4a04-43d0-a7f7-8af1acff537d"
      },
      "execution_count": 49,
      "outputs": [
        {
          "output_type": "stream",
          "name": "stdout",
          "text": [
            "Requirement already satisfied: Bio in /usr/local/lib/python3.11/dist-packages (1.8.0)\n",
            "Requirement already satisfied: biopython>=1.80 in /usr/local/lib/python3.11/dist-packages (from Bio) (1.85)\n",
            "Requirement already satisfied: gprofiler-official in /usr/local/lib/python3.11/dist-packages (from Bio) (1.0.0)\n",
            "Requirement already satisfied: mygene in /usr/local/lib/python3.11/dist-packages (from Bio) (3.2.2)\n",
            "Requirement already satisfied: pandas in /usr/local/lib/python3.11/dist-packages (from Bio) (2.2.2)\n",
            "Requirement already satisfied: pooch in /usr/local/lib/python3.11/dist-packages (from Bio) (1.8.2)\n",
            "Requirement already satisfied: requests in /usr/local/lib/python3.11/dist-packages (from Bio) (2.32.3)\n",
            "Requirement already satisfied: tqdm in /usr/local/lib/python3.11/dist-packages (from Bio) (4.67.1)\n",
            "Requirement already satisfied: numpy in /usr/local/lib/python3.11/dist-packages (from biopython>=1.80->Bio) (2.0.2)\n",
            "Requirement already satisfied: biothings-client>=0.2.6 in /usr/local/lib/python3.11/dist-packages (from mygene->Bio) (0.4.1)\n",
            "Requirement already satisfied: python-dateutil>=2.8.2 in /usr/local/lib/python3.11/dist-packages (from pandas->Bio) (2.9.0.post0)\n",
            "Requirement already satisfied: pytz>=2020.1 in /usr/local/lib/python3.11/dist-packages (from pandas->Bio) (2025.2)\n",
            "Requirement already satisfied: tzdata>=2022.7 in /usr/local/lib/python3.11/dist-packages (from pandas->Bio) (2025.2)\n",
            "Requirement already satisfied: platformdirs>=2.5.0 in /usr/local/lib/python3.11/dist-packages (from pooch->Bio) (4.3.8)\n",
            "Requirement already satisfied: packaging>=20.0 in /usr/local/lib/python3.11/dist-packages (from pooch->Bio) (24.2)\n",
            "Requirement already satisfied: charset-normalizer<4,>=2 in /usr/local/lib/python3.11/dist-packages (from requests->Bio) (3.4.2)\n",
            "Requirement already satisfied: idna<4,>=2.5 in /usr/local/lib/python3.11/dist-packages (from requests->Bio) (3.10)\n",
            "Requirement already satisfied: urllib3<3,>=1.21.1 in /usr/local/lib/python3.11/dist-packages (from requests->Bio) (2.4.0)\n",
            "Requirement already satisfied: certifi>=2017.4.17 in /usr/local/lib/python3.11/dist-packages (from requests->Bio) (2025.4.26)\n",
            "Requirement already satisfied: httpx>=0.22.0 in /usr/local/lib/python3.11/dist-packages (from biothings-client>=0.2.6->mygene->Bio) (0.28.1)\n",
            "Requirement already satisfied: six>=1.5 in /usr/local/lib/python3.11/dist-packages (from python-dateutil>=2.8.2->pandas->Bio) (1.17.0)\n",
            "Requirement already satisfied: anyio in /usr/local/lib/python3.11/dist-packages (from httpx>=0.22.0->biothings-client>=0.2.6->mygene->Bio) (4.9.0)\n",
            "Requirement already satisfied: httpcore==1.* in /usr/local/lib/python3.11/dist-packages (from httpx>=0.22.0->biothings-client>=0.2.6->mygene->Bio) (1.0.9)\n",
            "Requirement already satisfied: h11>=0.16 in /usr/local/lib/python3.11/dist-packages (from httpcore==1.*->httpx>=0.22.0->biothings-client>=0.2.6->mygene->Bio) (0.16.0)\n",
            "Requirement already satisfied: sniffio>=1.1 in /usr/local/lib/python3.11/dist-packages (from anyio->httpx>=0.22.0->biothings-client>=0.2.6->mygene->Bio) (1.3.1)\n",
            "Requirement already satisfied: typing_extensions>=4.5 in /usr/local/lib/python3.11/dist-packages (from anyio->httpx>=0.22.0->biothings-client>=0.2.6->mygene->Bio) (4.13.2)\n",
            "Requirement already satisfied: pandas in /usr/local/lib/python3.11/dist-packages (2.2.2)\n",
            "Requirement already satisfied: openpyxl in /usr/local/lib/python3.11/dist-packages (3.1.5)\n",
            "Requirement already satisfied: numpy>=1.23.2 in /usr/local/lib/python3.11/dist-packages (from pandas) (2.0.2)\n",
            "Requirement already satisfied: python-dateutil>=2.8.2 in /usr/local/lib/python3.11/dist-packages (from pandas) (2.9.0.post0)\n",
            "Requirement already satisfied: pytz>=2020.1 in /usr/local/lib/python3.11/dist-packages (from pandas) (2025.2)\n",
            "Requirement already satisfied: tzdata>=2022.7 in /usr/local/lib/python3.11/dist-packages (from pandas) (2025.2)\n",
            "Requirement already satisfied: et-xmlfile in /usr/local/lib/python3.11/dist-packages (from openpyxl) (2.0.0)\n",
            "Requirement already satisfied: six>=1.5 in /usr/local/lib/python3.11/dist-packages (from python-dateutil>=2.8.2->pandas) (1.17.0)\n"
          ]
        }
      ]
    },
    {
      "cell_type": "code",
      "source": [
        "from Bio import SeqIO\n",
        "import pandas as pd\n",
        "from sklearn.decomposition import PCA\n",
        "import matplotlib.pyplot as plt\n",
        "from sklearn.tree import DecisionTreeClassifier\n",
        "from sklearn.ensemble import RandomForestClassifier\n",
        "from sklearn.model_selection import GridSearchCV\n",
        "from sklearn.metrics import accuracy_score, classification_report\n",
        "from sklearn.model_selection import train_test_split\n",
        "from sklearn.preprocessing import StandardScaler\n",
        "from sklearn.preprocessing import LabelEncoder\n",
        "from sklearn.neighbors import KNeighborsClassifier\n",
        "import matplotlib.pyplot as plt\n",
        "from sklearn.naive_bayes import GaussianNB\n"
      ],
      "metadata": {
        "id": "ITiCId6dVaJr"
      },
      "execution_count": 50,
      "outputs": []
    },
    {
      "cell_type": "code",
      "source": [
        "def naive_string_match(text, pattern):\n",
        "    n = len(text)\n",
        "    m = len(pattern)\n",
        "    for i in range(n - m + 1):\n",
        "        if text[i:i + m] == pattern:\n",
        "            return True\n",
        "    return False\n",
        "\n",
        "def label_actn3_genotype(allele1, allele2):\n",
        "    r_patterns = [\"CGA\", \"CGC\", \"CGG\", \"CGT\", \"AGA\", \"AGG\"]\n",
        "    label1 = \"R\" if any(naive_string_match(allele1[i:i + 3], r) for i in range(0, len(allele1) - 2) for r in r_patterns) else \"X\"\n",
        "    label2 = \"R\" if any(naive_string_match(allele2[i:i + 3], r) for i in range(0, len(allele2) - 2) for r in r_patterns) else \"X\"\n",
        "    if label1 == \"R\" and label2 == \"R\":\n",
        "        return \"RR\"\n",
        "    elif label1 == \"X\" and label2 == \"X\":\n",
        "        return \"XX\"\n",
        "    else:\n",
        "        return \"RX\"\n",
        "\n",
        "def read_fasta_from_file(fasta_file_path):\n",
        "    sequences = {}\n",
        "    with open(fasta_file_path, \"r\") as fasta_file:\n",
        "        for record in SeqIO.parse(fasta_file, \"fasta\"):\n",
        "            sequences[record.id] = str(record.seq).upper()\n",
        "    return sequences\n",
        "\n",
        "fasta_file_path = \"/content/gene.fna\"\n",
        "\n",
        "sequences = read_fasta_from_file(fasta_file_path)\n",
        "\n",
        "id = \"NC_000011.10:66546395-66563334\"\n",
        "id2 = \"NC_060935.1:66542637-66559581\"\n",
        "\n",
        "if id not in sequences:\n",
        "    raise ValueError(f\"Sequence {id} not found in gene.fna. Check FASTA headers: {list(sequences.keys())}\")\n",
        "if id2 not in sequences:\n",
        "    raise ValueError(f\"Sequence {id2} not found in gene.fna. Check FASTA headers: {list(sequences.keys())}\")\n",
        "\n",
        "allele1 = sequences[id]\n",
        "allele2 = sequences[id2]\n",
        "\n",
        "if len(allele1) < 1731:\n",
        "    raise ValueError(f\"Wild-type sequence is too short: {len(allele1)} nucleotides\")\n",
        "\n",
        "print(f\"Allele 1 length: {len(allele1)}\")\n",
        "print(f\"Allele 2 length: {len(allele2)}\")\n",
        "\n",
        "try:\n",
        "    genotype = label_actn3_genotype(allele1, allele2)\n",
        "    print(f\"Genotype: {genotype}\")\n",
        "except ValueError as e:\n",
        "    print(f\"Error: {e}\")"
      ],
      "metadata": {
        "colab": {
          "base_uri": "https://localhost:8080/"
        },
        "id": "VGka8lh-JslG",
        "outputId": "f084c633-f825-4bed-b88b-3d2f1b4ea64e"
      },
      "execution_count": 51,
      "outputs": [
        {
          "output_type": "stream",
          "name": "stdout",
          "text": [
            "Allele 1 length: 16940\n",
            "Allele 2 length: 16945\n",
            "Genotype: RR\n"
          ]
        }
      ]
    },
    {
      "cell_type": "markdown",
      "metadata": {
        "id": "Rsk2cFw98Lnf"
      },
      "source": [
        "# Model"
      ]
    },
    {
      "cell_type": "code",
      "execution_count": 52,
      "metadata": {
        "colab": {
          "base_uri": "https://localhost:8080/"
        },
        "id": "-9rHOGi9mUsS",
        "outputId": "7829633a-be53-4f9f-a24c-63143725a1d1"
      },
      "outputs": [
        {
          "output_type": "stream",
          "name": "stdout",
          "text": [
            "  label  Maximal velocity Sq  Maximal Acceleration Sq  \\\n",
            "0    XX             2.517934                 25.87963   \n",
            "1    XX             2.464290                 18.89350   \n",
            "2    XX             2.370020                 27.78922   \n",
            "3    XX             2.545390                 22.50343   \n",
            "4    XX             2.738810                 25.69863   \n",
            "\n",
            "   Peak vertical ground reaction force on concentric phase  Sq  \\\n",
            "0                                            1044.60             \n",
            "1                                             864.66             \n",
            "2                                             770.81             \n",
            "3                                             602.96             \n",
            "4                                            1364.02             \n",
            "\n",
            "   Jump Height  Sq  Flight time/Take off time SQ  \\\n",
            "0           40.694                         0.508   \n",
            "1           38.847                         0.510   \n",
            "2           37.860                         0.435   \n",
            "3           36.937                         0.498   \n",
            "4           38.489                         0.474   \n",
            "\n",
            "   Rate of force development  Sq      Power SQ  Maximal velocity CMJ  \\\n",
            "0                    2987.156863  6.405624e+04               2.82410   \n",
            "1                    1810.755556  1.886069e+06               2.72329   \n",
            "2                    1492.058824  2.607025e+05               2.81726   \n",
            "3                    1849.570552  1.141325e+06               2.87847   \n",
            "4                    2030.966057  3.571826e+05               2.95897   \n",
            "\n",
            "   Maximal Acceleration CMJ  ...  Right Knee velocity(concentric)  \\\n",
            "0                  27.74744  ...                           728.74   \n",
            "1                  31.81699  ...                           755.09   \n",
            "2                  33.94966  ...                           827.84   \n",
            "3                  27.36380  ...                           870.35   \n",
            "4                  29.36206  ...                           577.74   \n",
            "\n",
            "   Right Knee acceleration(concentric)  Left Hip velocity (eccentric)  \\\n",
            "0                              9680.09                         184.27   \n",
            "1                              7918.49                         360.01   \n",
            "2                              8089.33                            NaN   \n",
            "3                             11169.85                         230.89   \n",
            "4                              3932.95                         132.16   \n",
            "\n",
            "   Left Hip acceleration (eccentric)  Left knee velocity (eccentric)  \\\n",
            "0                            4462.76                          454.86   \n",
            "1                            5651.72                          507.57   \n",
            "2                                NaN                          481.34   \n",
            "3                            4122.73                          479.12   \n",
            "4                            2427.87                          192.76   \n",
            "\n",
            "   Left knee acceleration (eccentric)  Left Hip velocity(concentric)  \\\n",
            "0                            13911.17                         236.10   \n",
            "1                             8500.13                            NaN   \n",
            "2                             5467.13                         189.23   \n",
            "3                             8845.26                         361.37   \n",
            "4                             7092.31                         328.46   \n",
            "\n",
            "   Left Hip acceleration(concentric)  Left Knee velocity(concentric)  \\\n",
            "0                            3070.39                          874.17   \n",
            "1                                NaN                          787.77   \n",
            "2                            1624.75                          815.87   \n",
            "3                            3127.37                          839.16   \n",
            "4                                NaN                          540.91   \n",
            "\n",
            "   Left Knee acceleration(concentric)  \n",
            "0                            17638.74  \n",
            "1                            11045.46  \n",
            "2                            12621.35  \n",
            "3                            10811.17  \n",
            "4                             4411.19  \n",
            "\n",
            "[5 rows x 42 columns]\n"
          ]
        }
      ],
      "source": [
        "\n",
        "df = pd.read_excel('/content/Dataset.xlsx', engine='openpyxl')\n",
        "print(df.head())\n"
      ]
    },
    {
      "cell_type": "code",
      "execution_count": 53,
      "metadata": {
        "colab": {
          "base_uri": "https://localhost:8080/"
        },
        "id": "ZpTFLtznm849",
        "outputId": "b540b542-cfb9-4f39-a64d-af969858cbe4"
      },
      "outputs": [
        {
          "output_type": "stream",
          "name": "stdout",
          "text": [
            "label                                                           0\n",
            "Maximal velocity Sq                                             4\n",
            "Maximal Acceleration Sq                                         4\n",
            "Peak vertical ground reaction force on concentric phase  Sq     4\n",
            "Jump Height  Sq                                                 4\n",
            "Flight time/Take off time SQ                                    4\n",
            "Rate of force development  Sq                                   4\n",
            "Power SQ                                                        4\n",
            "Maximal velocity CMJ                                            4\n",
            "Maximal Acceleration CMJ                                        4\n",
            "Peak vertical ground reaction force in concentric phase CMJ     4\n",
            "Peak vertical ground reaction force in eccentric phase CMJ      4\n",
            "Jump Height CMJ                                                 4\n",
            "Rate of foce development of conentric phase CMJ                 4\n",
            "Power CMJ                                                       4\n",
            "Maximal velocity DJ                                             4\n",
            "Maximal Acceleration DJ                                         4\n",
            "Peak vertical ground reaction force in eccentric phase DJ       4\n",
            "Peak vertical ground reaction force in concentric phase DJ      4\n",
            "Jump Height DJ                                                  4\n",
            "Duration of propulsion phase DJ                                 4\n",
            "Rate of foce development DJ                                     4\n",
            "Power DJ                                                        4\n",
            "Maximal Velocity Sprint                                         4\n",
            "Maxiamal Acceleration Sprint                                    4\n",
            "Running time Sprint                                             4\n",
            "Right Hip velocity (eccentric)                                  7\n",
            "Right Hip acceleration (eccentric) Drop jump                    7\n",
            "Right knee velocity (eccentric)                                 6\n",
            "Right knee acceleration (eccentric)                             6\n",
            "Right Hip velocity(concentric)                                  7\n",
            "Right Hip acceleration(concentric)                              7\n",
            "Right Knee velocity(concentric)                                 6\n",
            "Right Knee acceleration(concentric)                             6\n",
            "Left Hip velocity (eccentric)                                   8\n",
            "Left Hip acceleration (eccentric)                               8\n",
            "Left knee velocity (eccentric)                                  6\n",
            "Left knee acceleration (eccentric)                              6\n",
            "Left Hip velocity(concentric)                                   9\n",
            "Left Hip acceleration(concentric)                              10\n",
            "Left Knee velocity(concentric)                                  7\n",
            "Left Knee acceleration(concentric)                              7\n",
            "dtype: int64\n"
          ]
        }
      ],
      "source": [
        "print(df.isnull().sum())"
      ]
    },
    {
      "cell_type": "code",
      "execution_count": 54,
      "metadata": {
        "colab": {
          "base_uri": "https://localhost:8080/"
        },
        "id": "3ysWP46QmuWw",
        "outputId": "4fb3f9cc-a997-4199-b173-5ee64dd9f98a"
      },
      "outputs": [
        {
          "output_type": "stream",
          "name": "stdout",
          "text": [
            "label                                                          0\n",
            "Maximal velocity Sq                                            0\n",
            "Maximal Acceleration Sq                                        0\n",
            "Peak vertical ground reaction force on concentric phase  Sq    0\n",
            "Jump Height  Sq                                                0\n",
            "Flight time/Take off time SQ                                   0\n",
            "Rate of force development  Sq                                  0\n",
            "Power SQ                                                       0\n",
            "Maximal velocity CMJ                                           0\n",
            "Maximal Acceleration CMJ                                       0\n",
            "Peak vertical ground reaction force in concentric phase CMJ    0\n",
            "Peak vertical ground reaction force in eccentric phase CMJ     0\n",
            "Jump Height CMJ                                                0\n",
            "Rate of foce development of conentric phase CMJ                0\n",
            "Power CMJ                                                      0\n",
            "Maximal velocity DJ                                            0\n",
            "Maximal Acceleration DJ                                        0\n",
            "Peak vertical ground reaction force in eccentric phase DJ      0\n",
            "Peak vertical ground reaction force in concentric phase DJ     0\n",
            "Jump Height DJ                                                 0\n",
            "Duration of propulsion phase DJ                                0\n",
            "Rate of foce development DJ                                    0\n",
            "Power DJ                                                       0\n",
            "Maximal Velocity Sprint                                        0\n",
            "Maxiamal Acceleration Sprint                                   0\n",
            "Running time Sprint                                            0\n",
            "Right Hip velocity (eccentric)                                 0\n",
            "Right Hip acceleration (eccentric) Drop jump                   0\n",
            "Right knee velocity (eccentric)                                0\n",
            "Right knee acceleration (eccentric)                            0\n",
            "Right Hip velocity(concentric)                                 0\n",
            "Right Hip acceleration(concentric)                             0\n",
            "Right Knee velocity(concentric)                                0\n",
            "Right Knee acceleration(concentric)                            0\n",
            "Left Hip velocity (eccentric)                                  0\n",
            "Left Hip acceleration (eccentric)                              0\n",
            "Left knee velocity (eccentric)                                 0\n",
            "Left knee acceleration (eccentric)                             0\n",
            "Left Hip velocity(concentric)                                  0\n",
            "Left Hip acceleration(concentric)                              0\n",
            "Left Knee velocity(concentric)                                 0\n",
            "Left Knee acceleration(concentric)                             0\n",
            "dtype: int64\n"
          ]
        }
      ],
      "source": [
        "\n",
        "df_filled = df.fillna(df.mean(numeric_only=True))\n",
        "print(df_filled.isnull().sum())"
      ]
    },
    {
      "cell_type": "code",
      "execution_count": 55,
      "metadata": {
        "id": "h8pRtgvVnEup"
      },
      "outputs": [],
      "source": [
        "X = df_filled.drop(columns=['label'])\n",
        "y = df_filled['label']"
      ]
    },
    {
      "cell_type": "code",
      "execution_count": 56,
      "metadata": {
        "id": "JcPHLBwqoav0"
      },
      "outputs": [],
      "source": [
        "\n",
        "label_encoder = LabelEncoder()\n",
        "y = label_encoder.fit_transform(y)"
      ]
    },
    {
      "cell_type": "code",
      "execution_count": 57,
      "metadata": {
        "colab": {
          "base_uri": "https://localhost:8080/"
        },
        "id": "wzR3_Mn-or7g",
        "outputId": "98c399c6-7cef-400c-8efc-57360ebba578"
      },
      "outputs": [
        {
          "output_type": "stream",
          "name": "stdout",
          "text": [
            "[2 2 2 2 2 2 2 1 1 1 1 1 1 1 1 1 1 0 0 0 0 0 0 0 0 0 1 0 0 0 0 0 0]\n"
          ]
        }
      ],
      "source": [
        "print(y[:50])\n"
      ]
    },
    {
      "cell_type": "code",
      "execution_count": 58,
      "metadata": {
        "colab": {
          "base_uri": "https://localhost:8080/",
          "height": 620
        },
        "id": "IbZYgB6WpFy5",
        "outputId": "8d0195f0-b9fc-4f2e-fb37-f13fb2e0552e"
      },
      "outputs": [
        {
          "output_type": "stream",
          "name": "stderr",
          "text": [
            "<ipython-input-58-f117912a8156>:13: MatplotlibDeprecationWarning: The get_cmap function was deprecated in Matplotlib 3.7 and will be removed in 3.11. Use ``matplotlib.colormaps[name]`` or ``matplotlib.colormaps.get_cmap()`` or ``pyplot.get_cmap()`` instead.\n",
            "  colors = plt.cm.get_cmap('viridis', len(classes))\n"
          ]
        },
        {
          "output_type": "display_data",
          "data": {
            "text/plain": [
              "<Figure size 800x600 with 1 Axes>"
            ],
            "image/png": "[encoded data removed]"
          },
          "metadata": {}
        }
      ],
      "source": [
        "\n",
        "pca = PCA(n_components=2)\n",
        "X_pca = pca.fit_transform(X)\n",
        "\n",
        "\n",
        "pca_df = pd.DataFrame(X_pca, columns=['PC1', 'PC2'])\n",
        "pca_df['label'] = y\n",
        "\n",
        "\n",
        "plt.figure(figsize=(8, 6))\n",
        "\n",
        "\n",
        "classes = pca_df['label'].unique()\n",
        "colors = plt.cm.get_cmap('viridis', len(classes))\n",
        "\n",
        "for i, cls in enumerate(classes):\n",
        "    subset = pca_df[pca_df['label'] == cls]\n",
        "    plt.scatter(subset['PC1'], subset['PC2'], label=f'Class {cls}', alpha=0.7, edgecolors='k', color=colors(i))\n",
        "\n",
        "plt.title('2D PCA Visualization')\n",
        "plt.xlabel('Principal Component 1')\n",
        "plt.ylabel('Principal Component 2')\n",
        "plt.legend()\n",
        "plt.grid(True)\n",
        "plt.show()"
      ]
    },
    {
      "cell_type": "code",
      "execution_count": 59,
      "metadata": {
        "id": "pfG95b85q-7e"
      },
      "outputs": [],
      "source": [
        "\n",
        "\n",
        "X_train, X_test, y_train, y_test = train_test_split(\n",
        "    X, y, test_size=0.3, random_state=42, stratify=y\n",
        ")\n"
      ]
    },
    {
      "cell_type": "code",
      "execution_count": 60,
      "metadata": {
        "id": "X28ESZrKruBT"
      },
      "outputs": [],
      "source": [
        "\n",
        "scaler = StandardScaler()\n",
        "X_train_scaled = scaler.fit_transform(X_train)\n",
        "X_test_scaled = scaler.transform(X_test)"
      ]
    },
    {
      "cell_type": "markdown",
      "source": [
        "RF"
      ],
      "metadata": {
        "id": "FqZy086JfAUl"
      }
    },
    {
      "cell_type": "code",
      "execution_count": null,
      "metadata": {
        "colab": {
          "base_uri": "https://localhost:8080/"
        },
        "id": "IK3NrSfctV2N",
        "outputId": "61f960cd-02b5-436a-c95c-a2d8edd6ed9b"
      },
      "outputs": [
        {
          "output_type": "stream",
          "name": "stdout",
          "text": [
            "Fitting 5 folds for each of 216 candidates, totalling 1080 fits\n"
          ]
        }
      ],
      "source": [
        "\n",
        "rf = RandomForestClassifier(random_state=42)\n",
        "\n",
        "\n",
        "param_grid = {\n",
        "    'n_estimators': [50, 100, 150],\n",
        "    'max_depth': [10, 20, None],\n",
        "    'min_samples_split': [2, 5, 10],\n",
        "    'max_features': ['sqrt', 'log2', None, 0.5],\n",
        "    'bootstrap': [True, False]\n",
        "}\n",
        "\n",
        "\n",
        "\n",
        "grid_search = GridSearchCV(\n",
        "    estimator=rf,\n",
        "    param_grid=param_grid,\n",
        "    cv=5,\n",
        "    n_jobs=-1,\n",
        "    verbose=2,\n",
        "    scoring='accuracy'\n",
        ")\n",
        "\n",
        "\n",
        "grid_search.fit(X_train, y_train)\n",
        "\n",
        "\n",
        "print(\"Best Random Forest parameters:\", grid_search.best_params_)\n",
        "\n",
        "\n",
        "best_rf = grid_search.best_estimator_\n",
        "y_pred = best_rf.predict(X_test)\n",
        "\n",
        "\n",
        "print(\"Train accuracy:\", best_rf.score(X_train, y_train))\n",
        "print(\"Test accuracy:\", accuracy_score(y_test, y_pred))\n",
        "\n",
        "\n",
        "print(classification_report(y_test, y_pred))\n"
      ]
    },
    {
      "cell_type": "markdown",
      "source": [
        "KNN"
      ],
      "metadata": {
        "id": "lr0T3LLGfFaT"
      }
    },
    {
      "cell_type": "code",
      "source": [
        "\n",
        "\n",
        "\n",
        "knn = KNeighborsClassifier()\n",
        "knn_param_grid = {\n",
        "    'n_neighbors': [3, 5, 7, 9],\n",
        "    'weights': ['uniform', 'distance'],\n",
        "    'p': [1, 2]\n",
        "}\n",
        "\n",
        "\n",
        "knn_grid_search = GridSearchCV(\n",
        "    estimator=knn,\n",
        "    param_grid=knn_param_grid,\n",
        "    cv=5,\n",
        "    scoring='accuracy',\n",
        "    n_jobs=-1,\n",
        "    verbose=2\n",
        ")\n",
        "\n",
        "\n",
        "knn_grid_search.fit(X_train, y_train)\n",
        "\n",
        "\n",
        "print(\"Best KNN parameters:\", knn_grid_search.best_params_)\n",
        "best_knn = knn_grid_search.best_estimator_\n",
        "y_pred_knn = best_knn.predict(X_test)\n",
        "\n",
        "print(\"Train accuracy:\", best_knn.score(X_train, y_train))\n",
        "print(\"Test accuracy:\", accuracy_score(y_test, y_pred_knn))\n",
        "print(\"Classification Report:\\n\", classification_report(y_test, y_pred_knn))\n"
      ],
      "metadata": {
        "id": "mUjk0ZwueQl-"
      },
      "execution_count": null,
      "outputs": []
    },
    {
      "cell_type": "markdown",
      "source": [
        "DT"
      ],
      "metadata": {
        "id": "uA_j-Ke1fJIU"
      }
    },
    {
      "cell_type": "code",
      "source": [
        "\n",
        "\n",
        "\n",
        "dt = DecisionTreeClassifier(random_state=42)\n",
        "\n",
        "\n",
        "dt_param_grid = {\n",
        "    'criterion': ['gini', 'entropy'],\n",
        "    'max_depth': [None, 5, 10, 20, 30],\n",
        "    'min_samples_split': [2, 5, 10],\n",
        "    'min_samples_leaf': [1, 2, 4]\n",
        "}\n",
        "\n",
        "\n",
        "dt_grid_search = GridSearchCV(\n",
        "    estimator=dt,\n",
        "    param_grid=dt_param_grid,\n",
        "    cv=5,\n",
        "    n_jobs=-1,\n",
        "    verbose=2,\n",
        "    scoring='accuracy'\n",
        ")\n",
        "\n",
        "\n",
        "dt_grid_search.fit(X_train, y_train)\n",
        "\n",
        "\n",
        "print(\"Best Decision Tree parameters:\", dt_grid_search.best_params_)\n",
        "best_dt = dt_grid_search.best_estimator_\n",
        "\n",
        "\n",
        "y_pred_dt = best_dt.predict(X_test)\n",
        "print(\"Train accuracy:\", best_dt.score(X_train, y_train))\n",
        "print(\"Test accuracy:\", accuracy_score(y_test, y_pred_dt))\n",
        "print(\"Classification Report:\\n\", classification_report(y_test, y_pred_dt))\n"
      ],
      "metadata": {
        "id": "Rs87agl7enD0"
      },
      "execution_count": null,
      "outputs": []
    },
    {
      "cell_type": "markdown",
      "source": [
        "NB"
      ],
      "metadata": {
        "id": "JJ1F0MG4fPYy"
      }
    },
    {
      "cell_type": "code",
      "source": [
        "\n",
        "\n",
        "\n",
        "gnb = GaussianNB()\n",
        "gnb_param_grid = {\n",
        "    'var_smoothing': [1e-9, 1e-8, 1e-7, 1e-6]\n",
        "}\n",
        "\n",
        "\n",
        "gnb_grid_search = GridSearchCV(\n",
        "    estimator=gnb,\n",
        "    param_grid=gnb_param_grid,\n",
        "    cv=5,\n",
        "    scoring='accuracy',\n",
        "    n_jobs=-1,\n",
        "    verbose=2\n",
        ")\n",
        "\n",
        "\n",
        "gnb_grid_search.fit(X_train, y_train)\n",
        "\n",
        "\n",
        "print(\"Best Naive Bayes parameters:\", gnb_grid_search.best_params_)\n",
        "best_gnb = gnb_grid_search.best_estimator_\n",
        "y_pred_gnb = best_gnb.predict(X_test)\n",
        "\n",
        "print(\"Train accuracy:\", best_gnb.score(X_train, y_train))\n",
        "print(\"Test accuracy:\", accuracy_score(y_test, y_pred_gnb))\n",
        "print(\"Classification Report:\\n\", classification_report(y_test, y_pred_gnb))\n"
      ],
      "metadata": {
        "id": "0lwEvYvNebZC"
      },
      "execution_count": null,
      "outputs": []
    },
    {
      "cell_type": "code",
      "source": [
        "\n",
        "\n",
        "models = ['Random Forest', 'KNN', 'Decision Tree', 'Naive Bayes']\n",
        "train_accuracies = [\n",
        "    best_rf.score(X_train, y_train),\n",
        "    best_knn.score(X_train, y_train),\n",
        "    best_dt.score(X_train, y_train),\n",
        "    best_gnb.score(X_train, y_train)\n",
        "]\n",
        "\n",
        "\n",
        "plt.figure(figsize=(10, 6))\n",
        "bars = plt.bar(models, train_accuracies, color=['skyblue', 'pink', 'lightgreen', 'purple'])\n",
        "plt.ylim(0, 1.05)\n",
        "plt.ylabel('Training Accuracy')\n",
        "plt.title('Training Accuracy Comparison of Classifiers')\n",
        "\n",
        "\n",
        "for bar in bars:\n",
        "    yval = bar.get_height()\n",
        "    plt.text(bar.get_x() + bar.get_width()/2, yval + 0.01, f'{yval:.2f}', ha='center', fontsize=12)\n",
        "\n",
        "plt.tight_layout()\n",
        "plt.show()\n"
      ],
      "metadata": {
        "id": "f06KioGPg8bt"
      },
      "execution_count": null,
      "outputs": []
    }
  ],
  "metadata": {
    "colab": {
      "provenance": []
    },
    "kernelspec": {
      "display_name": "Python 3",
      "name": "python3"
    },
    "language_info": {
      "name": "python"
    }
  },
  "nbformat": 4,
  "nbformat_minor": 0
}